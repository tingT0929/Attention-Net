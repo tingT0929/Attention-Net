{
 "cells": [
  {
   "cell_type": "code",
   "execution_count": 1,
   "id": "5cc3a79f-6e1e-47e2-9abe-64eb81581bf9",
   "metadata": {},
   "outputs": [],
   "source": [
    "import pandas as pd\n",
    "import os"
   ]
  },
  {
   "cell_type": "code",
   "execution_count": 2,
   "id": "34cbedaa-57a2-45a7-ae4a-fc74a3ea72f6",
   "metadata": {},
   "outputs": [
    {
     "data": {
      "text/plain": [
       "'D:\\\\Desktop\\\\ht\\\\covinet\\\\new'"
      ]
     },
     "execution_count": 2,
     "metadata": {},
     "output_type": "execute_result"
    }
   ],
   "source": [
    "path = '..'\n",
    "os.chdir(path)\n",
    "os.getcwd()"
   ]
  },
  {
   "cell_type": "code",
   "execution_count": 66,
   "id": "c4b2ed3f-5600-4bb3-bd99-8747266c3dfb",
   "metadata": {},
   "outputs": [],
   "source": [
    "factorDF = pd.read_csv('./data/usa_county_latlomg.csv')\n",
    "covid = pd.read_csv('./data/counties-covid-travel.csv')\n",
    "factorDF = factorDF.iloc[:,[0,2,3,-2,-1]]\n",
    "factorDF.drop_duplicates(inplace=True)\n",
    "factorDF.sort_values(by=['StateCounty'], axis=0, inplace=True)\n",
    "factorDF.reset_index(drop=True,inplace=True)"
   ]
  },
  {
   "cell_type": "code",
   "execution_count": 67,
   "id": "5b36b2a5-0b21-4bcf-87e9-ea38b2480935",
   "metadata": {},
   "outputs": [],
   "source": [
    "with open('./preprocess/factor.txt', 'r', encoding='utf-8') as f:\n",
    "    name = f.readlines()\n",
    "statecounty = [i.strip() for i in name]\n",
    "factorDF['StateCounty'] = statecounty"
   ]
  },
  {
   "cell_type": "code",
   "execution_count": 70,
   "id": "623bf685-9d2a-4df3-b219-ecc0f394f816",
   "metadata": {},
   "outputs": [],
   "source": [
    "factorDF.drop([1838,2651], axis=0, inplace=True)\n",
    "factorDF.reset_index(drop=True,inplace=True)"
   ]
  },
  {
   "cell_type": "code",
   "execution_count": 71,
   "id": "654bff78-0e30-46b8-98de-bcb4dc96628d",
   "metadata": {},
   "outputs": [
    {
     "name": "stdout",
     "output_type": "stream",
     "text": [
      "3118 3131\n"
     ]
    }
   ],
   "source": [
    "a = factorDF['StateCounty'].unique().tolist()\n",
    "b = covid['StateCounty'].unique().tolist()\n",
    "print(len(a),len(b))"
   ]
  },
  {
   "cell_type": "code",
   "execution_count": 72,
   "id": "f678634f-15d9-40f2-aeec-86098d1e6c41",
   "metadata": {},
   "outputs": [],
   "source": [
    "for i in a:\n",
    "    if i not in b:\n",
    "        print(i)"
   ]
  },
  {
   "cell_type": "code",
   "execution_count": 78,
   "id": "6c14fa95-e91b-4eeb-8159-dc6cb6ad62be",
   "metadata": {},
   "outputs": [],
   "source": [
    "covid = covid[covid['StateCounty'].isin(a)]"
   ]
  },
  {
   "cell_type": "code",
   "execution_count": 79,
   "id": "1ba4924f-becd-4c78-a580-3ffc80167b8d",
   "metadata": {},
   "outputs": [],
   "source": [
    "covid.to_csv('./data/covid-travel-new.csv', index=False)"
   ]
  },
  {
   "cell_type": "code",
   "execution_count": 80,
   "id": "d0747622-a7ad-48b9-88c2-1795f50c68f8",
   "metadata": {},
   "outputs": [],
   "source": [
    "factorDF.to_csv('./data/static_factor.csv', index=False)"
   ]
  },
  {
   "cell_type": "code",
   "execution_count": null,
   "id": "784cfc60-fb00-4ca9-bb58-c58c18ba723f",
   "metadata": {},
   "outputs": [],
   "source": []
  }
 ],
 "metadata": {
  "kernelspec": {
   "display_name": "Python 3",
   "language": "python",
   "name": "python3"
  },
  "language_info": {
   "codemirror_mode": {
    "name": "ipython",
    "version": 3
   },
   "file_extension": ".py",
   "mimetype": "text/x-python",
   "name": "python",
   "nbconvert_exporter": "python",
   "pygments_lexer": "ipython3",
   "version": "3.8.8"
  }
 },
 "nbformat": 4,
 "nbformat_minor": 5
}
